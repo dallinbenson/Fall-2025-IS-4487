{
  "cells": [
    {
      "cell_type": "markdown",
      "metadata": {
        "id": "view-in-github",
        "colab_type": "text"
      },
      "source": [
        "<a href=\"https://colab.research.google.com/github/dallinbenson/Fall-2025-IS-4487/blob/main/LabsComplete/lab_01_python_intro.ipynb\" target=\"_parent\"><img src=\"https://colab.research.google.com/assets/colab-badge.svg\" alt=\"Open In Colab\"/></a>"
      ]
    },
    {
      "cell_type": "markdown",
      "metadata": {
        "id": "xJxWWBkrp-JF"
      },
      "source": [
        "# IS 4487 Lab 1 - Python Intro\n",
        "\n",
        "## Outline\n",
        "\n",
        "- Create and format cells in a notebook\n",
        "- Create basic variables in Python\n",
        "\n",
        "<a href=\"https://colab.research.google.com/github/vandanara/UofUtah_IS4487/blob/main/Labs/lab_01_python_intro.ipynb\" target=\"_parent\"><img src=\"https://colab.research.google.com/assets/colab-badge.svg\" alt=\"Open In Colab\"/></a>\n",
        "\n",
        "If you have any questions about Colab, you can read more here:  https://research.google.com/colaboratory/faq.html"
      ]
    },
    {
      "cell_type": "markdown",
      "metadata": {
        "id": "w2W7BHQKOy9s"
      },
      "source": [
        "## Your Turn: Work with the Python Notebook\n",
        "\n",
        "➡️ Lab Task #1\n",
        "\n",
        "Add a mathematical formula to add 15 and 22 in the cell below"
      ]
    },
    {
      "cell_type": "code",
      "execution_count": 5,
      "metadata": {
        "id": "q9D9aAk_p-JN",
        "colab": {
          "base_uri": "https://localhost:8080/"
        },
        "outputId": "36c15630-13b4-46e4-833e-e6a8ddbb99bc"
      },
      "outputs": [
        {
          "output_type": "execute_result",
          "data": {
            "text/plain": [
              "37"
            ]
          },
          "metadata": {},
          "execution_count": 5
        }
      ],
      "source": [
        "15 + 22"
      ]
    },
    {
      "cell_type": "markdown",
      "metadata": {
        "id": "i4cBU-4fOy9u"
      },
      "source": [
        "➡️ Lab Task #2\n",
        "\n",
        "Add a Markdown cell below this cell and write:\n",
        "\n",
        "- A heading.\n",
        "- Your major\n",
        "- Your favorite food"
      ]
    },
    {
      "cell_type": "markdown",
      "source": [
        "# My name is Dallin\n",
        "\n",
        "My major is Finance\n",
        "\n",
        "My favorite food is ice cream"
      ],
      "metadata": {
        "id": "czKiX9rBcajJ"
      }
    },
    {
      "cell_type": "markdown",
      "metadata": {
        "id": "bnKaURSPOy9u"
      },
      "source": [
        "➡️ Lab Task #3\n",
        "\n",
        "Create a variable called \"x\" with the value \"Hello World\".  Print the value of the variable"
      ]
    },
    {
      "cell_type": "code",
      "execution_count": 6,
      "metadata": {
        "id": "k7Nib8DeOy9v",
        "colab": {
          "base_uri": "https://localhost:8080/"
        },
        "outputId": "7f7b9423-9106-45a3-c879-9333025b5b37"
      },
      "outputs": [
        {
          "output_type": "stream",
          "name": "stdout",
          "text": [
            "Hello World\n"
          ]
        }
      ],
      "source": [
        "x = \"Hello World\"\n",
        "print(x)"
      ]
    },
    {
      "cell_type": "markdown",
      "metadata": {
        "id": "YJcstijjOy9v"
      },
      "source": [
        "## Export Your Notebook to Submit in Canvas\n",
        "- In the top menu, go to File > Download, click \"Download .ipynb\". Save the file locally with the name *lab_01_LastnameFirstname.ipynb*\n",
        "- In the left side menu, click the Folder icon, then click the \"Upload to Session Storage\" icon, and select the above saved file to add it to Colab's temporary Virtual Machine (VM) that allows us to work on our files in Colab.\n",
        "- Convert the file to HTML using the code below.  You may be asked to approve access to the files\n",
        "- Find the output file under Files in the left side menu\n",
        "- Download your HTML file (*lab_01_LastnameFirstname.html*) as your completed lab, to be uploaded to Canvas"
      ]
    },
    {
      "cell_type": "code",
      "execution_count": 7,
      "metadata": {
        "id": "7rcGsu1YOy9w",
        "colab": {
          "base_uri": "https://localhost:8080/"
        },
        "outputId": "3e34822a-fbcc-4b63-aa55-d3f49df5b6b1"
      },
      "outputs": [
        {
          "output_type": "stream",
          "name": "stdout",
          "text": [
            "[NbConvertApp] Converting notebook lab_01_BensonDallin.ipynb to html\n",
            "[NbConvertApp] Writing 277361 bytes to lab_01_BensonDallin.html\n"
          ]
        }
      ],
      "source": [
        "!jupyter nbconvert --to html \"lab_01_BensonDallin.ipynb\""
      ]
    },
    {
      "cell_type": "markdown",
      "metadata": {
        "id": "9htoUSFdOy9w"
      },
      "source": [
        "## Submit your assignment\n",
        "\n",
        "- Make sure that all of your output is shown.  If you get the “unable to render code block” error, try refreshing the cache or downloading raw data to manually upload into Colab as a workaround.\n",
        "- Upload your HTML file to Canvas\n",
        "- Optionally, save your file in your own GitHub account for future use\n"
      ]
    }
  ],
  "metadata": {
    "colab": {
      "provenance": [],
      "include_colab_link": true
    },
    "kernelspec": {
      "display_name": "Python 3",
      "name": "python3"
    },
    "language_info": {
      "name": "python"
    }
  },
  "nbformat": 4,
  "nbformat_minor": 0
}